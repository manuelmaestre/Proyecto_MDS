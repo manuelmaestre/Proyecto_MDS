{
 "cells": [
  {
   "cell_type": "markdown",
   "metadata": {},
   "source": [
    "### Separar para cada fichero de entrada de catastro (.cat), los ficheros de salida de interes (tipo 11, tipo 15 y tipo 14). Los ficheros de entrada contienen todos los tipos mezclados, identificando cada uno por el comienzo de línea. Cada tipo de tabla tiene una especificación de ancho fijo\n",
    "\n",
    "La descripción de los ficheros .cat se encuentra en http://www.catastro.minhap.es/documentos/formatos_intercambio/catastro_fin_cat_2006.pdf"
   ]
  },
  {
   "cell_type": "code",
   "execution_count": null,
   "metadata": {
    "collapsed": true
   },
   "outputs": [],
   "source": [
    "### imports y definición de directorios\n",
    "import pandas as pd\n",
    "import os\n",
    "import numpy as np\n",
    "\n",
    "processed_dir = '../../data/raw/CAT/procesados/'\n",
    "pending_dir = '../../data/raw/CAT/pendientes/'\n",
    "schema_dir = '../../data/clean/aux_files/'\n",
    "data_dir = '../../data/clean/CAT/'"
   ]
  },
  {
   "cell_type": "code",
   "execution_count": null,
   "metadata": {
    "collapsed": false
   },
   "outputs": [],
   "source": [
    "pending_files = [f for f in os.listdir(pending_dir) if os.path.isfile(os.path.join(pending_dir, f))]"
   ]
  },
  {
   "cell_type": "code",
   "execution_count": null,
   "metadata": {
    "collapsed": false
   },
   "outputs": [],
   "source": [
    "schema_list = [f for f in os.listdir(schema_dir) if os.path.isfile(os.path.join(schema_dir, f))]"
   ]
  },
  {
   "cell_type": "code",
   "execution_count": null,
   "metadata": {
    "collapsed": false
   },
   "outputs": [],
   "source": [
    "schema_list = ([x for x in schema_list if str(x).find('.csv') > -1])"
   ]
  },
  {
   "cell_type": "code",
   "execution_count": null,
   "metadata": {
    "collapsed": true
   },
   "outputs": [],
   "source": [
    "schema_list.sort()"
   ]
  },
  {
   "cell_type": "code",
   "execution_count": null,
   "metadata": {
    "collapsed": false
   },
   "outputs": [],
   "source": [
    "pending_files"
   ]
  },
  {
   "cell_type": "code",
   "execution_count": null,
   "metadata": {
    "collapsed": false
   },
   "outputs": [],
   "source": [
    "for f in pending_files:\n",
    "    in_process_file = os.path.join(pending_dir, f)\n",
    "    \n",
    "    for schema in schema_list:\n",
    "        schema_file = os.path.join(schema_dir, schema)\n",
    "        schema_type = '^' + schema[1:3]\n",
    "        out_file = schema_type.replace('^', 'T') + '_' + in_process_file.split(\"/\")[-1].split(\".\")[0] + '.csv'\n",
    "        out_file = os.path.join(data_dir, out_file)\n",
    "        #falta añadir el cut con las columnas de interes para cada schema\n",
    "        !zcat $in_process_file|grep -a $schema_type|in2csv -e latin1 -s $schema_file > $out_file\n",
    "        !gzip $out_file\n",
    "        \n",
    "    !mv $in_process_file $processed_dir\n",
    "        "
   ]
  },
  {
   "cell_type": "markdown",
   "metadata": {
    "collapsed": false
   },
   "source": [
    "### Base de información tipo 15, al que se añade informanción relevante de tipos 11, 13 y 14\n",
    "\n",
    "tipo11: parcelas catastrales, coordenadas xy\n",
    "\n",
    "tipo13: unidades constructivas en parcelas, año de la construcción\n",
    "\n",
    "tipo14: construcciones dentro de las unidades constructivas: año antiguedad, año reforma si hay, superficie\n",
    "\n",
    "tipo15: registro inmuebles. Tabla principal en la que poblar los datos relevantes de las otras tablas"
   ]
  },
  {
   "cell_type": "code",
   "execution_count": null,
   "metadata": {
    "collapsed": false
   },
   "outputs": [],
   "source": [
    "input_dir = data_dir\n",
    "out_dir = '../../data/clean/ficheros_preparados/'\n",
    "processed_dir = '../../data/clean/CAT/procesados/'"
   ]
  },
  {
   "cell_type": "code",
   "execution_count": null,
   "metadata": {
    "collapsed": true
   },
   "outputs": [],
   "source": [
    "pending_files = [f for f in os.listdir(input_dir) if os.path.isfile(os.path.join(input_dir, f))]"
   ]
  },
  {
   "cell_type": "code",
   "execution_count": null,
   "metadata": {
    "collapsed": false
   },
   "outputs": [],
   "source": [
    "pending_files = [f for f in pending_files if f[0:3] == 'T15']"
   ]
  },
  {
   "cell_type": "code",
   "execution_count": null,
   "metadata": {
    "collapsed": true
   },
   "outputs": [],
   "source": [
    "for f in pending_files:\n",
    "    \n",
    "    f15 = os.path.join(input_dir, f)    \n",
    "    \n",
    "    ## cargamos fichero tipo 15 (fincas)\n",
    "\n",
    "    indata15 = pd.read_csv(f15, low_memory=False, dtype='str')\n",
    "    cols_eliminar = indata15.columns[indata15.columns.str.contains('blanc')]\n",
    "    cols_eliminar = cols_eliminar.union(['tipo_reg', 'ctrl1', 'ctrl2', 'cmun_origen', 'cod_zona_concent', 'cod_poligono', 'cod_parcela', 'cod_paraje', 'nombre_paraje', 'num_orden_escrit_hori'])\n",
    "    indata15 = indata15.drop(cols_eliminar, axis = 1)\n",
    "\n",
    "    ## cargamos fichero tipo 14, para obtener m2 y años de construcción y reforma\n",
    "    ## t15 y t14 se cruzan por (parcela, num_cargo) en t15 y (parcela, num_orden_BI) en t14. PUeden existir\n",
    "    ## varios registros en t14 asociados a uno de 15. P. ej. viviendas con garajes. De aquí se puede marcar\n",
    "    ## que viviendas tienen garaje incluido para luego estimar el coste\n",
    "\n",
    "    f14 = f15.replace('T15', 'T14')\n",
    "    indata14 = pd.read_csv(f14, low_memory=False, dtype='str')\n",
    "    ## reducimos a sólo columnas de cruce y datos de interes\n",
    "    cols_interes = ['parcela_cat', 'num_orden_BI', 'tipo_reforma', 'anio_ref', 'anio_antiguedad', 'local_interior', 'm2_total', 'm2_porches_terr', 'm2_imputables_loc', 'tipologia_constr', 'planta']\n",
    "    indata14 = indata14.reindex(columns=cols_interes)\n",
    "\n",
    "    ## muestra para acelerar desarrollo, comentar en producción\n",
    "    #indata15 = indata15[0:200000]\n",
    "    #indata14 = indata14[0:200000]\n",
    "\n",
    "    ## dejamos en t14 sólo registros relacionados con t15 que sean viviendas, el resto no es de interés. Mejora\n",
    "    ## rendimiento de groupby/transform posteriores\n",
    "    indata15['parcela_cat'].fillna('No info', inplace = True)\n",
    "    indata15['num_cargo'].fillna('No info', inplace = True)\n",
    "    duplas_viv = indata15[indata15['clave_grupo_BI'] == 'V'].groupby(['parcela_cat', 'num_cargo'])\n",
    "    duplas_viv = duplas_viv.size().reset_index()\n",
    "    duplas_viv = duplas_viv.drop(0, axis = 1)\n",
    "    indata14 = pd.merge(indata14, duplas_viv, left_on=['parcela_cat','num_orden_BI'], right_on=['parcela_cat', 'num_cargo'])\n",
    "\n",
    "\n",
    "    ## seleccionamos las duplas de t14 con más de un registro y alguno en plantas negativas -> viviendas con garages\n",
    "    indata14['parcela_cat'].fillna('No info', inplace = True)\n",
    "    indata14['num_orden_BI'].fillna('No info', inplace = True)\n",
    "    ## la línea de abajo es extremadamente lenta, preguntar pq. Sustituyo por group y merge\n",
    "    #indata14['registros'] = indata14.groupby(['parcela_cat', 'num_orden_BI'])[['parcela_cat']].transform(lambda x: len(x))\n",
    "    grupo_comp = indata14.groupby(['parcela_cat', 'num_orden_BI'])[['parcela_cat']].size().reset_index()\n",
    "    indata14 = pd.merge(indata14, grupo_comp, how='left', left_on=['parcela_cat', 'num_orden_BI'], right_on=['parcela_cat', 'num_orden_BI'])\n",
    "    indata14.rename(columns={0:'registros'}, inplace=True)\n",
    "    indata14['planta'].fillna('No info', inplace = True)\n",
    "    indata14['posible_garage'] = indata14.apply(lambda x: 1 if ((x['registros'] > 1) & (x['planta'][0] == '-')) else 0, axis=1)\n",
    "    duplas14_garage = indata14[indata14['posible_garage'] == 1].groupby(['parcela_cat', 'num_orden_BI']).size().reset_index()\n",
    "    duplas14_garage.drop(0, axis = 1, inplace=True)\n",
    "    duplas14_garage['garage']=1\n",
    "\n",
    "    ## marcamos en t15 las viviendas con garage\n",
    "    indata15 = pd.merge(indata15, duplas14_garage, how='left', left_on=['parcela_cat', 'num_cargo'], right_on=['parcela_cat','num_orden_BI'])\n",
    "    indata15['garage'].fillna(0, inplace = True)\n",
    "    indata15.drop('num_orden_BI', axis = 1, inplace = True)\n",
    "    indata15['garage'] = indata15['garage'].map(int)\n",
    "\n",
    "    ## dejamos un unico valor de año, el maximo de la reforma y de antiguedad\n",
    "\n",
    "    years = ['anio_ref', 'anio_antiguedad']\n",
    "    indata14[years] = indata14[years].apply(lambda x: x.fillna(0))\n",
    "    indata14[years] = indata14[years].applymap(int)\n",
    "    indata14['aniot14'] = np.maximum(indata14['anio_ref'], indata14['anio_antiguedad'])\n",
    "    duplas14_maxyear = indata14.groupby(['parcela_cat', 'num_orden_BI'])['aniot14'].max().reset_index()\n",
    "    indata15 = pd.merge(indata15, duplas14_maxyear, how='left', left_on=['parcela_cat', 'num_cargo'], right_on=['parcela_cat','num_orden_BI'])\n",
    "    years = ['antiguedad_BI', 'aniot14']\n",
    "    indata15[years] = indata15[years].apply(lambda x: x.fillna(0))\n",
    "    indata15[years] = indata15[years].applymap(int)\n",
    "    indata15['anio_mejor'] = np.maximum(indata15['antiguedad_BI'], indata15['aniot14'])\n",
    "\n",
    "    ## poblar con las coordenadas xy desde tipo 11 parcelas\n",
    "\n",
    "    f11 = f15.replace('T15', 'T11')\n",
    "    indata11 = pd.read_csv(f11, low_memory=False, dtype='str')\n",
    "    ## Solo necesitamos las coordenadas y la proyección de esta tabla\n",
    "    ## convertimos las coordenadas a float, los 2 ultimos digitos son el decimal\n",
    "    cols_coor = indata11.columns[indata11.columns.str.contains('coor')]\n",
    "    indata11[cols_coor] = indata11[cols_coor].apply(lambda x: x.fillna(0))\n",
    "    indata11[cols_coor] = indata11[cols_coor].applymap(lambda x: int(x)/100.0)\n",
    "    ## quitar 'EPSG:' de huso_geo\n",
    "    indata11['huso_geo'].fillna('', inplace = True)\n",
    "    indata11['huso_geo'] = indata11['huso_geo'].apply(lambda x: x[5:])\n",
    "\n",
    "    indata15 = pd.merge(indata15, indata11[['parcela_cat', 'x_coor', 'y_coor', 'huso_geo']], how='left', left_on='parcela_cat', right_on='parcela_cat')\n",
    "\n",
    "    ## grabamos el fichero de resultado \n",
    "    fbienesinmuebles = f.replace('T15', 'BI')\n",
    "    fbienesinmuebles = f.replace('.gz', '')\n",
    "    fbienesinmuebles = os.path.join(out_dir, fbienesinmuebles)\n",
    "\n",
    "    indata15.to_csv(fbienesinmuebles, index=False)\n",
    "    !gzip -f $fbienesinmuebles\n",
    "\n",
    "    ## movemos los ficheros originales al directorio de procesados\n",
    "    !mv $f11 $processed_dir\n",
    "    !mv $f13 $processed_dir\n",
    "    !mv $f15 $processed_dir\n",
    "\n"
   ]
  },
  {
   "cell_type": "code",
   "execution_count": null,
   "metadata": {
    "collapsed": true
   },
   "outputs": [],
   "source": [
    "\n",
    "indata15.rename(columns={'garage':'vivienda_con_garage'}, inplace=True)\n",
    "\n",
    "## buscamos el año de antiguedad y de reforma si la ha habido. Sólo nos interesan viviendas\n",
    "\n",
    "\n",
    "## cargamos los ficheros tipo11 (parcelas)\n",
    "f11 = f.replace('T15', 'T11')\n",
    "in_data_11 = pd.read_csv(f11, low_memory=False, dtype='str')\n",
    "\n",
    "## eliminamos las columnas en blanco\n",
    "cols_eliminar = in_data_11.columns[in_data_11.columns.str.contains('blanc')]\n",
    "## añadimos ademas otras columnas sin interes\n",
    "cols_eliminar = cols_eliminar.union(['tipo_reg', 'cmun_origen', 'cod_zona_concent', 'cod_poligono', 'cod_parcela', 'cod_paraje', 'nombre_paraje', 'refcat_BICE', 'denom_BICE'])\n",
    "in_data_11 = in_data_11.drop(cols_eliminar, axis=1)\n",
    "## convertimos todos los valores de m2 a formato número\n",
    "in_data_11[cols_metros] = in_data_11[cols_metros].applymap(int)\n",
    "\n"
   ]
  },
  {
   "cell_type": "code",
   "execution_count": null,
   "metadata": {
    "collapsed": false
   },
   "outputs": [],
   "source": [
    "f = os.path.join(input_dir, 'T15_28_900_U_2016-01-23.csv.gz')"
   ]
  },
  {
   "cell_type": "code",
   "execution_count": null,
   "metadata": {
    "collapsed": false
   },
   "outputs": [],
   "source": [
    "pd.set_option('display.max_columns', None)"
   ]
  },
  {
   "cell_type": "code",
   "execution_count": null,
   "metadata": {
    "collapsed": false
   },
   "outputs": [],
   "source": [
    "indata15[(indata15['parcela_cat']=='8776301VK4787F') & (indata15['num_cargo']=='0114') ]"
   ]
  },
  {
   "cell_type": "code",
   "execution_count": 1,
   "metadata": {
    "collapsed": false
   },
   "outputs": [],
   "source": [
    "### imports y definición de directorios\n",
    "import pandas as pd\n",
    "import os\n",
    "import numpy as np\n",
    "\n",
    "input_dir = '../../data/clean/CAT/'\n",
    "out_dir = '../../data/clean/ficheros_preparados/'\n",
    "processed_dir = '../../data/clean/CAT/procesados/'\n",
    "\n",
    "f = 'T15_28_900_U_2016-01-23.csv.gz'\n",
    "f15 = os.path.join(input_dir, f)\n"
   ]
  },
  {
   "cell_type": "code",
   "execution_count": null,
   "metadata": {
    "collapsed": false
   },
   "outputs": [],
   "source": [
    "f15"
   ]
  },
  {
   "cell_type": "code",
   "execution_count": 2,
   "metadata": {
    "collapsed": false
   },
   "outputs": [],
   "source": [
    "## cargamos fichero tipo 15 (fincas)\n",
    "\n",
    "indata15 = pd.read_csv(f15, low_memory=False, dtype='str')\n",
    "cols_eliminar = indata15.columns[indata15.columns.str.contains('blanc')]\n",
    "cols_eliminar = cols_eliminar.union(['tipo_reg', 'ctrl1', 'ctrl2', 'cmun_origen', 'cod_zona_concent', 'cod_poligono', 'cod_parcela', 'cod_paraje', 'nombre_paraje', 'num_orden_escrit_hori'])\n",
    "indata15 = indata15.drop(cols_eliminar, axis = 1)\n",
    "\n",
    "## cargamos fichero tipo 14, para obtener m2 y años de construcción y reforma\n",
    "## t15 y t14 se cruzan por (parcela, num_cargo) en t15 y (parcela, num_orden_BI) en t14. PUeden existir\n",
    "## varios registros en t14 asociados a uno de 15. P. ej. viviendas con garajes. De aquí se puede marcar\n",
    "## que viviendas tienen garaje incluido para luego estimar el coste\n",
    "\n",
    "f14 = f15.replace('T15', 'T14')\n",
    "indata14 = pd.read_csv(f14, low_memory=False, dtype='str')\n",
    "## reducimos a sólo columnas de cruce y datos de interes\n",
    "cols_interes = ['parcela_cat', 'num_orden_BI', 'tipo_reforma', 'anio_ref', 'anio_antiguedad', 'local_interior', 'm2_total', 'm2_porches_terr', 'm2_imputables_loc', 'tipologia_constr', 'planta']\n",
    "indata14 = indata14.reindex(columns=cols_interes)\n",
    "\n",
    "## muestra para acelerar desarrollo, comentar en producción\n",
    "#indata15 = indata15[0:200000]\n",
    "#indata14 = indata14[0:200000]\n",
    "\n",
    "## dejamos en t14 sólo registros relacionados con t15 que sean viviendas, el resto no es de interés. Mejora\n",
    "## rendimiento de groupby/transform posteriores\n",
    "indata15['parcela_cat'].fillna('No info', inplace = True)\n",
    "indata15['num_cargo'].fillna('No info', inplace = True)\n",
    "duplas_viv = indata15[indata15['clave_grupo_BI'] == 'V'].groupby(['parcela_cat', 'num_cargo'])\n",
    "duplas_viv = duplas_viv.size().reset_index()\n",
    "duplas_viv = duplas_viv.drop(0, axis = 1)\n",
    "indata14 = pd.merge(indata14, duplas_viv, left_on=['parcela_cat','num_orden_BI'], right_on=['parcela_cat', 'num_cargo'])\n",
    "\n",
    "\n",
    "## seleccionamos las duplas de t14 con más de un registro y alguno en plantas negativas -> viviendas con garages\n",
    "indata14['parcela_cat'].fillna('No info', inplace = True)\n",
    "indata14['num_orden_BI'].fillna('No info', inplace = True)\n",
    "## la línea de abajo es extremadamente lenta, preguntar pq. Sustituyo por group y merge\n",
    "#indata14['registros'] = indata14.groupby(['parcela_cat', 'num_orden_BI'])[['parcela_cat']].transform(lambda x: len(x))\n",
    "grupo_comp = indata14.groupby(['parcela_cat', 'num_orden_BI'])[['parcela_cat']].size().reset_index()\n",
    "indata14 = pd.merge(indata14, grupo_comp, how='left', left_on=['parcela_cat', 'num_orden_BI'], right_on=['parcela_cat', 'num_orden_BI'])\n",
    "indata14.rename(columns={0:'registros'}, inplace=True)\n",
    "indata14['planta'].fillna('No info', inplace = True)\n",
    "indata14['posible_garage'] = indata14.apply(lambda x: 1 if ((x['registros'] > 1) & (x['planta'][0] == '-')) else 0, axis=1)\n",
    "duplas14_garage = indata14[indata14['posible_garage'] == 1].groupby(['parcela_cat', 'num_orden_BI']).size().reset_index()\n",
    "duplas14_garage.drop(0, axis = 1, inplace=True)\n",
    "duplas14_garage['garage']=1\n",
    "\n",
    "## marcamos en t15 las viviendas con garage\n",
    "indata15 = pd.merge(indata15, duplas14_garage, how='left', left_on=['parcela_cat', 'num_cargo'], right_on=['parcela_cat','num_orden_BI'])\n",
    "indata15['garage'].fillna(0, inplace = True)\n",
    "indata15.drop('num_orden_BI', axis = 1, inplace = True)\n",
    "indata15['garage'] = indata15['garage'].map(int)\n",
    "\n",
    "## dejamos un unico valor de año, el maximo de la reforma y de antiguedad\n",
    "\n",
    "years = ['anio_ref', 'anio_antiguedad']\n",
    "indata14[years] = indata14[years].apply(lambda x: x.fillna(0))\n",
    "indata14[years] = indata14[years].applymap(int)\n",
    "indata14['aniot14'] = np.maximum(indata14['anio_ref'], indata14['anio_antiguedad'])\n",
    "duplas14_maxyear = indata14.groupby(['parcela_cat', 'num_orden_BI'])['aniot14'].max().reset_index()\n",
    "indata15 = pd.merge(indata15, duplas14_maxyear, how='left', left_on=['parcela_cat', 'num_cargo'], right_on=['parcela_cat','num_orden_BI'])\n",
    "years = ['antiguedad_BI', 'aniot14']\n",
    "indata15[years] = indata15[years].apply(lambda x: x.fillna(0))\n",
    "indata15[years] = indata15[years].applymap(int)\n",
    "indata15['anio_mejor'] = np.maximum(indata15['antiguedad_BI'], indata15['aniot14'])\n",
    "\n",
    "## poblar con las coordenadas xy desde tipo 11 parcelas\n",
    "\n",
    "f11 = f15.replace('T15', 'T11')\n",
    "indata11 = pd.read_csv(f11, low_memory=False, dtype='str')\n",
    "## Solo necesitamos las coordenadas y la proyección de esta tabla\n",
    "## convertimos las coordenadas a float, los 2 ultimos digitos son el decimal\n",
    "cols_coor = indata11.columns[indata11.columns.str.contains('coor')]\n",
    "indata11[cols_coor] = indata11[cols_coor].apply(lambda x: x.fillna(0))\n",
    "indata11[cols_coor] = indata11[cols_coor].applymap(lambda x: int(x)/100.0)\n",
    "## quitar 'EPSG:' de huso_geo\n",
    "indata11['huso_geo'].fillna('', inplace = True)\n",
    "indata11['huso_geo'] = indata11['huso_geo'].apply(lambda x: x[5:])\n",
    "\n",
    "indata15 = pd.merge(indata15, indata11[['parcela_cat', 'x_coor', 'y_coor', 'huso_geo']], how='left', left_on='parcela_cat', right_on='parcela_cat')\n",
    "\n"
   ]
  },
  {
   "cell_type": "code",
   "execution_count": 3,
   "metadata": {
    "collapsed": false
   },
   "outputs": [
    {
     "data": {
      "text/html": [
       "<div>\n",
       "<table border=\"1\" class=\"dataframe\">\n",
       "  <thead>\n",
       "    <tr style=\"text-align: right;\">\n",
       "      <th></th>\n",
       "      <th>parcela_cat</th>\n",
       "      <th>num_orden_BI</th>\n",
       "      <th>tipo_reforma</th>\n",
       "      <th>anio_ref</th>\n",
       "      <th>anio_antiguedad</th>\n",
       "      <th>local_interior</th>\n",
       "      <th>m2_total</th>\n",
       "      <th>m2_porches_terr</th>\n",
       "      <th>m2_imputables_loc</th>\n",
       "      <th>tipologia_constr</th>\n",
       "      <th>planta</th>\n",
       "      <th>num_cargo</th>\n",
       "      <th>registros</th>\n",
       "      <th>posible_garage</th>\n",
       "      <th>aniot14</th>\n",
       "    </tr>\n",
       "  </thead>\n",
       "  <tbody>\n",
       "    <tr>\n",
       "      <th>0</th>\n",
       "      <td>0148301VK4704G</td>\n",
       "      <td>0093</td>\n",
       "      <td>NaN</td>\n",
       "      <td>0</td>\n",
       "      <td>1984</td>\n",
       "      <td>N</td>\n",
       "      <td>0000063</td>\n",
       "      <td>0000053</td>\n",
       "      <td>0000000</td>\n",
       "      <td>01122</td>\n",
       "      <td>07</td>\n",
       "      <td>0093</td>\n",
       "      <td>1</td>\n",
       "      <td>0</td>\n",
       "      <td>1984</td>\n",
       "    </tr>\n",
       "    <tr>\n",
       "      <th>1</th>\n",
       "      <td>0148301VK4704G</td>\n",
       "      <td>0094</td>\n",
       "      <td>NaN</td>\n",
       "      <td>0</td>\n",
       "      <td>1984</td>\n",
       "      <td>N</td>\n",
       "      <td>0000045</td>\n",
       "      <td>0000049</td>\n",
       "      <td>0000000</td>\n",
       "      <td>01122</td>\n",
       "      <td>07</td>\n",
       "      <td>0094</td>\n",
       "      <td>1</td>\n",
       "      <td>0</td>\n",
       "      <td>1984</td>\n",
       "    </tr>\n",
       "    <tr>\n",
       "      <th>2</th>\n",
       "      <td>0148301VK4704G</td>\n",
       "      <td>0095</td>\n",
       "      <td>NaN</td>\n",
       "      <td>0</td>\n",
       "      <td>1984</td>\n",
       "      <td>N</td>\n",
       "      <td>0000053</td>\n",
       "      <td>0000035</td>\n",
       "      <td>0000000</td>\n",
       "      <td>01122</td>\n",
       "      <td>07</td>\n",
       "      <td>0095</td>\n",
       "      <td>1</td>\n",
       "      <td>0</td>\n",
       "      <td>1984</td>\n",
       "    </tr>\n",
       "    <tr>\n",
       "      <th>3</th>\n",
       "      <td>0148301VK4704G</td>\n",
       "      <td>0096</td>\n",
       "      <td>NaN</td>\n",
       "      <td>0</td>\n",
       "      <td>1984</td>\n",
       "      <td>N</td>\n",
       "      <td>0000065</td>\n",
       "      <td>0000056</td>\n",
       "      <td>0000000</td>\n",
       "      <td>01122</td>\n",
       "      <td>07</td>\n",
       "      <td>0096</td>\n",
       "      <td>1</td>\n",
       "      <td>0</td>\n",
       "      <td>1984</td>\n",
       "    </tr>\n",
       "    <tr>\n",
       "      <th>4</th>\n",
       "      <td>0148301VK4704G</td>\n",
       "      <td>0097</td>\n",
       "      <td>NaN</td>\n",
       "      <td>0</td>\n",
       "      <td>1984</td>\n",
       "      <td>N</td>\n",
       "      <td>0000061</td>\n",
       "      <td>0000051</td>\n",
       "      <td>0000000</td>\n",
       "      <td>01122</td>\n",
       "      <td>07</td>\n",
       "      <td>0097</td>\n",
       "      <td>1</td>\n",
       "      <td>0</td>\n",
       "      <td>1984</td>\n",
       "    </tr>\n",
       "  </tbody>\n",
       "</table>\n",
       "</div>"
      ],
      "text/plain": [
       "      parcela_cat num_orden_BI tipo_reforma  anio_ref  anio_antiguedad  \\\n",
       "0  0148301VK4704G         0093          NaN         0             1984   \n",
       "1  0148301VK4704G         0094          NaN         0             1984   \n",
       "2  0148301VK4704G         0095          NaN         0             1984   \n",
       "3  0148301VK4704G         0096          NaN         0             1984   \n",
       "4  0148301VK4704G         0097          NaN         0             1984   \n",
       "\n",
       "  local_interior m2_total m2_porches_terr m2_imputables_loc tipologia_constr  \\\n",
       "0              N  0000063         0000053           0000000            01122   \n",
       "1              N  0000045         0000049           0000000            01122   \n",
       "2              N  0000053         0000035           0000000            01122   \n",
       "3              N  0000065         0000056           0000000            01122   \n",
       "4              N  0000061         0000051           0000000            01122   \n",
       "\n",
       "  planta num_cargo  registros  posible_garage  aniot14  \n",
       "0     07      0093          1               0     1984  \n",
       "1     07      0094          1               0     1984  \n",
       "2     07      0095          1               0     1984  \n",
       "3     07      0096          1               0     1984  \n",
       "4     07      0097          1               0     1984  "
      ]
     },
     "execution_count": 3,
     "metadata": {},
     "output_type": "execute_result"
    }
   ],
   "source": [
    "indata14.head()"
   ]
  },
  {
   "cell_type": "code",
   "execution_count": null,
   "metadata": {
    "collapsed": false
   },
   "outputs": [],
   "source": [
    "indata15['garage'].value_counts()"
   ]
  },
  {
   "cell_type": "code",
   "execution_count": 4,
   "metadata": {
    "collapsed": false
   },
   "outputs": [
    {
     "data": {
      "text/html": [
       "<div>\n",
       "<table border=\"1\" class=\"dataframe\">\n",
       "  <thead>\n",
       "    <tr style=\"text-align: right;\">\n",
       "      <th></th>\n",
       "      <th>cod_del_MEH</th>\n",
       "      <th>cod_muni_DGC</th>\n",
       "      <th>clase_BI</th>\n",
       "      <th>parcela_cat</th>\n",
       "      <th>num_cargo</th>\n",
       "      <th>num_fijo_BI</th>\n",
       "      <th>BI_ayunt</th>\n",
       "      <th>num_finca_registral</th>\n",
       "      <th>cprov</th>\n",
       "      <th>provincia</th>\n",
       "      <th>...</th>\n",
       "      <th>m2_BI</th>\n",
       "      <th>m2_solares_sin_div_hor</th>\n",
       "      <th>coef_finca</th>\n",
       "      <th>garage</th>\n",
       "      <th>num_orden_BI</th>\n",
       "      <th>aniot14</th>\n",
       "      <th>anio_mejor</th>\n",
       "      <th>x_coor</th>\n",
       "      <th>y_coor</th>\n",
       "      <th>huso_geo</th>\n",
       "    </tr>\n",
       "  </thead>\n",
       "  <tbody>\n",
       "    <tr>\n",
       "      <th>0</th>\n",
       "      <td>28</td>\n",
       "      <td>900</td>\n",
       "      <td>UR</td>\n",
       "      <td>1965204VK4716F</td>\n",
       "      <td>0001</td>\n",
       "      <td>00257650</td>\n",
       "      <td>000000000255496</td>\n",
       "      <td>00000</td>\n",
       "      <td>28</td>\n",
       "      <td>MADRID</td>\n",
       "      <td>...</td>\n",
       "      <td>0000021526</td>\n",
       "      <td>0000002321</td>\n",
       "      <td>100000000</td>\n",
       "      <td>0</td>\n",
       "      <td>NaN</td>\n",
       "      <td>0</td>\n",
       "      <td>1975</td>\n",
       "      <td>441827.64</td>\n",
       "      <td>4476294.63</td>\n",
       "      <td>25830</td>\n",
       "    </tr>\n",
       "    <tr>\n",
       "      <th>1</th>\n",
       "      <td>28</td>\n",
       "      <td>900</td>\n",
       "      <td>UR</td>\n",
       "      <td>9437605VK3793G</td>\n",
       "      <td>0001</td>\n",
       "      <td>81140056</td>\n",
       "      <td>000000000063083</td>\n",
       "      <td>00000</td>\n",
       "      <td>28</td>\n",
       "      <td>MADRID</td>\n",
       "      <td>...</td>\n",
       "      <td>0000000000</td>\n",
       "      <td>0000001150</td>\n",
       "      <td>100000000</td>\n",
       "      <td>0</td>\n",
       "      <td>NaN</td>\n",
       "      <td>0</td>\n",
       "      <td>0</td>\n",
       "      <td>439356.70</td>\n",
       "      <td>4473478.15</td>\n",
       "      <td>25830</td>\n",
       "    </tr>\n",
       "    <tr>\n",
       "      <th>2</th>\n",
       "      <td>28</td>\n",
       "      <td>900</td>\n",
       "      <td>UR</td>\n",
       "      <td>0148301VK4704G</td>\n",
       "      <td>0001</td>\n",
       "      <td>00001774</td>\n",
       "      <td>000000000079248</td>\n",
       "      <td>2810802002614</td>\n",
       "      <td>28</td>\n",
       "      <td>MADRID</td>\n",
       "      <td>...</td>\n",
       "      <td>0000000023</td>\n",
       "      <td>0000000631</td>\n",
       "      <td>000070000</td>\n",
       "      <td>0</td>\n",
       "      <td>NaN</td>\n",
       "      <td>0</td>\n",
       "      <td>1984</td>\n",
       "      <td>439945.24</td>\n",
       "      <td>4474677.58</td>\n",
       "      <td>25830</td>\n",
       "    </tr>\n",
       "    <tr>\n",
       "      <th>3</th>\n",
       "      <td>28</td>\n",
       "      <td>900</td>\n",
       "      <td>UR</td>\n",
       "      <td>0148301VK4704G</td>\n",
       "      <td>0002</td>\n",
       "      <td>00001775</td>\n",
       "      <td>000000000079249</td>\n",
       "      <td>2810802002616</td>\n",
       "      <td>28</td>\n",
       "      <td>MADRID</td>\n",
       "      <td>...</td>\n",
       "      <td>0000000023</td>\n",
       "      <td>0000000631</td>\n",
       "      <td>000070000</td>\n",
       "      <td>0</td>\n",
       "      <td>NaN</td>\n",
       "      <td>0</td>\n",
       "      <td>1984</td>\n",
       "      <td>439945.24</td>\n",
       "      <td>4474677.58</td>\n",
       "      <td>25830</td>\n",
       "    </tr>\n",
       "    <tr>\n",
       "      <th>4</th>\n",
       "      <td>28</td>\n",
       "      <td>900</td>\n",
       "      <td>UR</td>\n",
       "      <td>0148301VK4704G</td>\n",
       "      <td>0003</td>\n",
       "      <td>00001776</td>\n",
       "      <td>000000000079250</td>\n",
       "      <td>2810802002618</td>\n",
       "      <td>28</td>\n",
       "      <td>MADRID</td>\n",
       "      <td>...</td>\n",
       "      <td>0000000023</td>\n",
       "      <td>0000000631</td>\n",
       "      <td>000070000</td>\n",
       "      <td>0</td>\n",
       "      <td>NaN</td>\n",
       "      <td>0</td>\n",
       "      <td>1984</td>\n",
       "      <td>439945.24</td>\n",
       "      <td>4474677.58</td>\n",
       "      <td>25830</td>\n",
       "    </tr>\n",
       "  </tbody>\n",
       "</table>\n",
       "<p>5 rows × 41 columns</p>\n",
       "</div>"
      ],
      "text/plain": [
       "  cod_del_MEH cod_muni_DGC clase_BI     parcela_cat num_cargo num_fijo_BI  \\\n",
       "0          28          900       UR  1965204VK4716F      0001    00257650   \n",
       "1          28          900       UR  9437605VK3793G      0001    81140056   \n",
       "2          28          900       UR  0148301VK4704G      0001    00001774   \n",
       "3          28          900       UR  0148301VK4704G      0002    00001775   \n",
       "4          28          900       UR  0148301VK4704G      0003    00001776   \n",
       "\n",
       "          BI_ayunt num_finca_registral cprov provincia   ...          m2_BI  \\\n",
       "0  000000000255496               00000    28    MADRID   ...     0000021526   \n",
       "1  000000000063083               00000    28    MADRID   ...     0000000000   \n",
       "2  000000000079248       2810802002614    28    MADRID   ...     0000000023   \n",
       "3  000000000079249       2810802002616    28    MADRID   ...     0000000023   \n",
       "4  000000000079250       2810802002618    28    MADRID   ...     0000000023   \n",
       "\n",
       "  m2_solares_sin_div_hor coef_finca garage num_orden_BI aniot14 anio_mejor  \\\n",
       "0             0000002321  100000000      0          NaN       0       1975   \n",
       "1             0000001150  100000000      0          NaN       0          0   \n",
       "2             0000000631  000070000      0          NaN       0       1984   \n",
       "3             0000000631  000070000      0          NaN       0       1984   \n",
       "4             0000000631  000070000      0          NaN       0       1984   \n",
       "\n",
       "      x_coor      y_coor huso_geo  \n",
       "0  441827.64  4476294.63    25830  \n",
       "1  439356.70  4473478.15    25830  \n",
       "2  439945.24  4474677.58    25830  \n",
       "3  439945.24  4474677.58    25830  \n",
       "4  439945.24  4474677.58    25830  \n",
       "\n",
       "[5 rows x 41 columns]"
      ]
     },
     "execution_count": 4,
     "metadata": {},
     "output_type": "execute_result"
    }
   ],
   "source": [
    "indata15.head()\n"
   ]
  },
  {
   "cell_type": "code",
   "execution_count": null,
   "metadata": {
    "collapsed": true
   },
   "outputs": [],
   "source": [
    "indata15['anio_mejor'].value_counts()"
   ]
  },
  {
   "cell_type": "code",
   "execution_count": 5,
   "metadata": {
    "collapsed": true
   },
   "outputs": [],
   "source": [
    "## grabamos el fichero de resultado \n",
    "fbienesinmuebles = f.replace('T15', 'BI')\n",
    "fbienesinmuebles = fbienesinmuebles.replace('.gz', '')\n",
    "fbienesinmuebles = os.path.join(out_dir, fbienesinmuebles)"
   ]
  },
  {
   "cell_type": "code",
   "execution_count": 8,
   "metadata": {
    "collapsed": false
   },
   "outputs": [
    {
     "data": {
      "text/plain": [
       "'../../data/clean/ficheros_preparados/BI_28_900_U_2016-01-23.csv'"
      ]
     },
     "execution_count": 8,
     "metadata": {},
     "output_type": "execute_result"
    }
   ],
   "source": [
    "fbienesinmuebles"
   ]
  },
  {
   "cell_type": "code",
   "execution_count": null,
   "metadata": {
    "collapsed": false
   },
   "outputs": [],
   "source": [
    "f"
   ]
  },
  {
   "cell_type": "code",
   "execution_count": 6,
   "metadata": {
    "collapsed": true
   },
   "outputs": [],
   "source": [
    "indata15.to_csv(fbienesinmuebles, index=False)\n",
    "!gzip -f $fbienesinmuebles"
   ]
  },
  {
   "cell_type": "code",
   "execution_count": 7,
   "metadata": {
    "collapsed": false
   },
   "outputs": [],
   "source": [
    "## movemos los ficheros originales al directorio de procesados\n",
    "!mv $f11 $processed_dir\n",
    "!mv $f14 $processed_dir\n",
    "!mv $f15 $processed_dir"
   ]
  },
  {
   "cell_type": "code",
   "execution_count": 10,
   "metadata": {
    "collapsed": false
   },
   "outputs": [],
   "source": [
    "indata11.to_csv('../../data/clean/ficheros_preparados/parcelas.csv', index=False)"
   ]
  },
  {
   "cell_type": "code",
   "execution_count": null,
   "metadata": {
    "collapsed": true
   },
   "outputs": [],
   "source": []
  }
 ],
 "metadata": {
  "kernelspec": {
   "display_name": "Python [Root]",
   "language": "python",
   "name": "Python [Root]"
  },
  "language_info": {
   "codemirror_mode": {
    "name": "ipython",
    "version": 2
   },
   "file_extension": ".py",
   "mimetype": "text/x-python",
   "name": "python",
   "nbconvert_exporter": "python",
   "pygments_lexer": "ipython2",
   "version": "2.7.12"
  }
 },
 "nbformat": 4,
 "nbformat_minor": 0
}
