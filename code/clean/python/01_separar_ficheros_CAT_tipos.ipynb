{
 "cells": [
  {
   "cell_type": "markdown",
   "metadata": {},
   "source": [
    "### Separar para cada fichero de entrada de catastro (.cat), los ficheros de salida de interes (tipo 11, tipo 15 y tipo 14). Los ficheros de entrada contienen todos los tipos mezclados, identificando cada uno por el comienzo de línea. Cada tipo de tabla tiene una especificación de ancho fijo\n",
    "\n",
    "La descripción de los ficheros .cat se encuentra en http://www.catastro.minhap.es/documentos/formatos_intercambio/catastro_fin_cat_2006.pdf"
   ]
  },
  {
   "cell_type": "code",
   "execution_count": null,
   "metadata": {
    "collapsed": false
   },
   "outputs": [
    {
     "name": "stdout",
     "output_type": "stream",
     "text": [
      "\r\n",
      "gzip: ../../../data/raw/CAT/pendientes/28_900_U_2016-01-23.CAT.gz: decompression OK, trailing garbage ignored\r\n"
     ]
    }
   ],
   "source": [
    "### imports y definición de directorios\n",
    "\n",
    "processed_dir = '../../../data/raw/CAT/procesados/'\n",
    "pending_dir = '../../../data/raw/CAT/pendientes/'\n",
    "schema_dir = '../../../data/clean/aux_files/'\n",
    "data_dir = '../../../data/clean/CAT/'\n",
    "\n",
    "pending_files = [f for f in os.listdir(pending_dir) if os.path.isfile(os.path.join(pending_dir, f))]\n",
    "\n",
    "schema_list = [f for f in os.listdir(schema_dir) if os.path.isfile(os.path.join(schema_dir, f))]\n",
    "\n",
    "schema_list = ([x for x in schema_list if str(x).find('.csv') > -1])\n",
    "\n",
    "schema_list.sort()\n",
    "\n",
    "pending_files\n",
    "\n",
    "for f in pending_files:\n",
    "    in_process_file = os.path.join(pending_dir, f)\n",
    "    \n",
    "    for schema in schema_list:\n",
    "        schema_file = os.path.join(schema_dir, schema)\n",
    "        schema_type = '^' + schema[1:3]\n",
    "        out_file = schema_type.replace('^', 'T') + '_' + in_process_file.split(\"/\")[-1].split(\".\")[0] + '.csv'\n",
    "        out_file = os.path.join(data_dir, out_file)\n",
    "        !zcat $in_process_file|grep -a $schema_type|in2csv -e latin1 -s $schema_file > $out_file\n",
    "        !gzip -f $out_file\n",
    "        \n",
    "    !mv $in_process_file $processed_dir\n",
    "        "
   ]
  }
 ],
 "metadata": {
  "kernelspec": {
   "display_name": "Python [Root]",
   "language": "python",
   "name": "Python [Root]"
  },
  "language_info": {
   "codemirror_mode": {
    "name": "ipython",
    "version": 2
   },
   "file_extension": ".py",
   "mimetype": "text/x-python",
   "name": "python",
   "nbconvert_exporter": "python",
   "pygments_lexer": "ipython2",
   "version": "2.7.12"
  }
 },
 "nbformat": 4,
 "nbformat_minor": 0
}
