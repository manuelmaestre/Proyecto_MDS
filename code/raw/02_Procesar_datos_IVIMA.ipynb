{
 "cells": [
  {
   "cell_type": "markdown",
   "metadata": {},
   "source": [
    "## Unir y preparar los ficheros bajados de IVIMA.\n",
    "\n",
    "Los datos del IVIMA hay que bajarlos manualmente desde: http://www.planalquila.org/"
   ]
  },
  {
   "cell_type": "code",
   "execution_count": 96,
   "metadata": {
    "collapsed": true
   },
   "outputs": [],
   "source": [
    "## Imports y directorios in/out\n",
    "\n",
    "import pandas as pd\n",
    "import os\n",
    "import numpy as np\n",
    "\n",
    "input_dir = '../../data/raw/IVIMA/'\n",
    "out_dir = '../../data/clean/IVIMA/'\n",
    "\n",
    "\n",
    "input_files = [os.path.join(input_dir, f) for f in os.listdir(input_dir) if os.path.isfile(os.path.join(input_dir, f))]\n",
    "\n",
    "out_file = os.path.join(input_dir, 'ivima_cat.csv')\n",
    "!rm $out_file\n",
    "!touch $out_file\n",
    "\n",
    "for f in input_files:\n",
    "    if f <> out_file:\n",
    "        !cat $f >> $out_file\n",
    "\n",
    "rawdata = pd.read_csv(out_file, sep='\\t')\n",
    "\n",
    "# Eliminar columnas no útiles\n",
    "rawdata.drop(['Foto', 'Ref.', 'Fecha oferta', 'Unnamed: 9'], axis=1, inplace=True)\n",
    "\n",
    "# Eliminar duplicados\n",
    "rawdata = rawdata.drop_duplicates()\n",
    "\n",
    "# Damos nombres \"normales\" a las columnas\n",
    "rawdata.rename(columns={'Dirección':'Direccion', 'm²':'metros', 'Nºhab.':'habitaciones'}, inplace=True)\n",
    "\n",
    "# Eliminar filas sin datos en predictores (Planta, m2, Precio)\n",
    "\n",
    "rawdata = rawdata.dropna(subset=['Planta', 'metros','Precio'])\n",
    "\n",
    "# Marcar garage 1=Si, 0=No\n",
    "rawdata['Garaje']=rawdata.apply(lambda x: 1 if x['Garaje'] == 'si' else 0, axis = 1)\n",
    "\n",
    "# al concatenar se han quedado los encabezados como datos, los eliminamos\n",
    "\n",
    "rawdata = rawdata[rawdata['Precio'] != 'Precio']\n",
    "\n",
    "# Convertir a tipo de dato correcto: metros y €\n",
    "\n",
    "rawdata['Precio'] = rawdata['Precio'].str.replace(',', '.').str.replace('€', '').str.strip()\n",
    "\n",
    "rawdata['Precio'] = rawdata['Precio'].map(float)\n",
    "\n",
    "rawdata['metros'] = rawdata['metros'].str.replace(',', '.').str.strip()\n",
    "\n",
    "rawdata['metros'] = rawdata['metros'].map(float)"
   ]
  },
  {
   "cell_type": "code",
   "execution_count": null,
   "metadata": {
    "collapsed": true
   },
   "outputs": [],
   "source": [
    "# Eliminar filas con valores outliers de metros o €"
   ]
  },
  {
   "cell_type": "code",
   "execution_count": 107,
   "metadata": {
    "collapsed": false
   },
   "outputs": [],
   "source": [
    "rawdata['€metro'] = (rawdata['Precio']/rawdata['metros']).map(int)"
   ]
  },
  {
   "cell_type": "code",
   "execution_count": 110,
   "metadata": {
    "collapsed": false
   },
   "outputs": [
    {
     "data": {
      "text/plain": [
       "10    820\n",
       "11    708\n",
       "9     654\n",
       "12    621\n",
       "13    545\n",
       "8     482\n",
       "14    378\n",
       "15    320\n",
       "7     217\n",
       "16    212\n",
       "17    154\n",
       "18    129\n",
       "19     91\n",
       "20     61\n",
       "21     59\n",
       "6      55\n",
       "22     43\n",
       "23     23\n",
       "25     18\n",
       "24     18\n",
       "27      8\n",
       "5       7\n",
       "26      7\n",
       "29      5\n",
       "28      4\n",
       "30      4\n",
       "33      2\n",
       "32      1\n",
       "43      1\n",
       "85      1\n",
       "36      1\n",
       "37      1\n",
       "35      1\n",
       "2       1\n",
       "38      1\n",
       "50      1\n",
       "31      1\n",
       "0       1\n",
       "Name: €metro, dtype: int64"
      ]
     },
     "execution_count": 110,
     "metadata": {},
     "output_type": "execute_result"
    }
   ],
   "source": [
    "(rawdata['€metro'].value_counts())"
   ]
  },
  {
   "cell_type": "code",
   "execution_count": null,
   "metadata": {
    "collapsed": true
   },
   "outputs": [],
   "source": [
    "# Traducir los valores de planta a los que existen en catastro"
   ]
  },
  {
   "cell_type": "code",
   "execution_count": 109,
   "metadata": {
    "collapsed": false
   },
   "outputs": [
    {
     "data": {
      "text/html": [
       "<div>\n",
       "<table border=\"1\" class=\"dataframe\">\n",
       "  <thead>\n",
       "    <tr style=\"text-align: right;\">\n",
       "      <th></th>\n",
       "      <th>Direccion</th>\n",
       "      <th>Planta</th>\n",
       "      <th>metros</th>\n",
       "      <th>habitaciones</th>\n",
       "      <th>Garaje</th>\n",
       "      <th>Precio</th>\n",
       "      <th>€metro</th>\n",
       "    </tr>\n",
       "  </thead>\n",
       "  <tbody>\n",
       "    <tr>\n",
       "      <th>0</th>\n",
       "      <td>AVENIDA DE MORATALAZ, 103</td>\n",
       "      <td>2</td>\n",
       "      <td>85.00</td>\n",
       "      <td>3</td>\n",
       "      <td>0</td>\n",
       "      <td>850.0</td>\n",
       "      <td>10</td>\n",
       "    </tr>\n",
       "    <tr>\n",
       "      <th>1</th>\n",
       "      <td>AVENIDA DE MORATALAZ, 29</td>\n",
       "      <td>4</td>\n",
       "      <td>41.67</td>\n",
       "      <td>2</td>\n",
       "      <td>0</td>\n",
       "      <td>600.0</td>\n",
       "      <td>14</td>\n",
       "    </tr>\n",
       "    <tr>\n",
       "      <th>2</th>\n",
       "      <td>AVENIDA DE MORATALAZ, 73</td>\n",
       "      <td>3</td>\n",
       "      <td>55.00</td>\n",
       "      <td>3</td>\n",
       "      <td>0</td>\n",
       "      <td>620.0</td>\n",
       "      <td>11</td>\n",
       "    </tr>\n",
       "    <tr>\n",
       "      <th>3</th>\n",
       "      <td>AVENIDA DE MORATALAZ, 85</td>\n",
       "      <td>BAJO</td>\n",
       "      <td>54.60</td>\n",
       "      <td>3</td>\n",
       "      <td>0</td>\n",
       "      <td>650.0</td>\n",
       "      <td>11</td>\n",
       "    </tr>\n",
       "    <tr>\n",
       "      <th>5</th>\n",
       "      <td>AVENIDA DOCTOR GARCIA TAPIA, 102</td>\n",
       "      <td>BJ</td>\n",
       "      <td>43.50</td>\n",
       "      <td>2</td>\n",
       "      <td>0</td>\n",
       "      <td>600.0</td>\n",
       "      <td>13</td>\n",
       "    </tr>\n",
       "  </tbody>\n",
       "</table>\n",
       "</div>"
      ],
      "text/plain": [
       "                          Direccion Planta  metros habitaciones  Garaje  \\\n",
       "0         AVENIDA DE MORATALAZ, 103      2   85.00            3       0   \n",
       "1          AVENIDA DE MORATALAZ, 29      4   41.67            2       0   \n",
       "2          AVENIDA DE MORATALAZ, 73      3   55.00            3       0   \n",
       "3          AVENIDA DE MORATALAZ, 85   BAJO   54.60            3       0   \n",
       "5  AVENIDA DOCTOR GARCIA TAPIA, 102     BJ   43.50            2       0   \n",
       "\n",
       "   Precio  €metro  \n",
       "0   850.0      10  \n",
       "1   600.0      14  \n",
       "2   620.0      11  \n",
       "3   650.0      11  \n",
       "5   600.0      13  "
      ]
     },
     "execution_count": 109,
     "metadata": {},
     "output_type": "execute_result"
    }
   ],
   "source": [
    "rawdata.head()"
   ]
  },
  {
   "cell_type": "code",
   "execution_count": 94,
   "metadata": {
    "collapsed": false
   },
   "outputs": [
    {
     "ename": "AttributeError",
     "evalue": "'DataFrame' object has no attribute 'str'",
     "output_type": "error",
     "traceback": [
      "\u001b[1;31m---------------------------------------------------------------------------\u001b[0m",
      "\u001b[1;31mAttributeError\u001b[0m                            Traceback (most recent call last)",
      "\u001b[1;32m<ipython-input-94-3a8266c18c29>\u001b[0m in \u001b[0;36m<module>\u001b[1;34m()\u001b[0m\n\u001b[1;32m----> 1\u001b[1;33m \u001b[0mrawdata\u001b[0m\u001b[1;33m.\u001b[0m\u001b[0mstr\u001b[0m\u001b[1;33m\u001b[0m\u001b[0m\n\u001b[0m",
      "\u001b[1;32m/home/manu/anaconda2/lib/python2.7/site-packages/pandas/core/generic.pyc\u001b[0m in \u001b[0;36m__getattr__\u001b[1;34m(self, name)\u001b[0m\n\u001b[0;32m   2670\u001b[0m             \u001b[1;32mif\u001b[0m \u001b[0mname\u001b[0m \u001b[1;32min\u001b[0m \u001b[0mself\u001b[0m\u001b[1;33m.\u001b[0m\u001b[0m_info_axis\u001b[0m\u001b[1;33m:\u001b[0m\u001b[1;33m\u001b[0m\u001b[0m\n\u001b[0;32m   2671\u001b[0m                 \u001b[1;32mreturn\u001b[0m \u001b[0mself\u001b[0m\u001b[1;33m[\u001b[0m\u001b[0mname\u001b[0m\u001b[1;33m]\u001b[0m\u001b[1;33m\u001b[0m\u001b[0m\n\u001b[1;32m-> 2672\u001b[1;33m             \u001b[1;32mreturn\u001b[0m \u001b[0mobject\u001b[0m\u001b[1;33m.\u001b[0m\u001b[0m__getattribute__\u001b[0m\u001b[1;33m(\u001b[0m\u001b[0mself\u001b[0m\u001b[1;33m,\u001b[0m \u001b[0mname\u001b[0m\u001b[1;33m)\u001b[0m\u001b[1;33m\u001b[0m\u001b[0m\n\u001b[0m\u001b[0;32m   2673\u001b[0m \u001b[1;33m\u001b[0m\u001b[0m\n\u001b[0;32m   2674\u001b[0m     \u001b[1;32mdef\u001b[0m \u001b[0m__setattr__\u001b[0m\u001b[1;33m(\u001b[0m\u001b[0mself\u001b[0m\u001b[1;33m,\u001b[0m \u001b[0mname\u001b[0m\u001b[1;33m,\u001b[0m \u001b[0mvalue\u001b[0m\u001b[1;33m)\u001b[0m\u001b[1;33m:\u001b[0m\u001b[1;33m\u001b[0m\u001b[0m\n",
      "\u001b[1;31mAttributeError\u001b[0m: 'DataFrame' object has no attribute 'str'"
     ]
    }
   ],
   "source": [
    "rawdata.str"
   ]
  },
  {
   "cell_type": "code",
   "execution_count": null,
   "metadata": {
    "collapsed": true
   },
   "outputs": [],
   "source": []
  }
 ],
 "metadata": {
  "kernelspec": {
   "display_name": "Python [Root]",
   "language": "python",
   "name": "Python [Root]"
  },
  "language_info": {
   "codemirror_mode": {
    "name": "ipython",
    "version": 2
   },
   "file_extension": ".py",
   "mimetype": "text/x-python",
   "name": "python",
   "nbconvert_exporter": "python",
   "pygments_lexer": "ipython2",
   "version": "2.7.12"
  }
 },
 "nbformat": 4,
 "nbformat_minor": 0
}
