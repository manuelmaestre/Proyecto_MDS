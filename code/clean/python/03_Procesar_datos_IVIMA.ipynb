{
 "cells": [
  {
   "cell_type": "markdown",
   "metadata": {},
   "source": [
    "## Unir y preparar los ficheros bajados de IVIMA.\n",
    "\n",
    "Los datos del IVIMA hay que bajarlos manualmente desde: http://www.planalquila.org/"
   ]
  },
  {
   "cell_type": "code",
   "execution_count": 1,
   "metadata": {
    "collapsed": false
   },
   "outputs": [],
   "source": [
    "## Imports y directorios in/out\n",
    "\n",
    "import pandas as pd\n",
    "import os\n",
    "import numpy as np\n",
    "\n",
    "input_dir = '../../../data/raw/IVIMA/'\n",
    "out_dir = '../../../data/clean/IVIMA/'\n",
    "aux_dir = '../../../data/raw/OTROS/'\n",
    "\n",
    "\n",
    "input_files = [os.path.join(input_dir, f) for f in os.listdir(input_dir) if os.path.isfile(os.path.join(input_dir, f))]\n",
    "\n",
    "out_file = os.path.join(input_dir, 'ivima_cat.csv')\n",
    "!rm $out_file\n",
    "!touch $out_file\n",
    "\n",
    "for f in input_files:\n",
    "    if f <> out_file:\n",
    "        !cat $f >> $out_file\n",
    "\n",
    "rawdata = pd.read_csv(out_file, sep='\\t')\n",
    "\n",
    "# Eliminar columnas no útiles\n",
    "\n",
    "rawdata.drop(['Foto', 'Ref.', 'Fecha oferta', 'Unnamed: 9'], axis=1, inplace=True)\n",
    "\n",
    "# Eliminar duplicados\n",
    "\n",
    "rawdata = rawdata.drop_duplicates()\n",
    "\n",
    "# Damos nombres \"normales\" a las columnas\n",
    "\n",
    "rawdata.rename(columns={'Dirección':'Direccion', 'm²':'metros', 'Nºhab.':'habitaciones'}, inplace=True)\n",
    "\n",
    "# Eliminar filas sin datos en predictores (Planta, m2, Precio)\n",
    "\n",
    "rawdata = rawdata.dropna(subset=['Planta', 'metros','Precio'])\n",
    "\n",
    "# Marcar garage 1=Si, 0=No\n",
    "\n",
    "rawdata['Garaje']=rawdata.apply(lambda x: 1 if x['Garaje'] == 'si' else 0, axis = 1)\n",
    "\n",
    "# al concatenar se han quedado los encabezados como datos, los eliminamos\n",
    "\n",
    "rawdata = rawdata[rawdata['Precio'] != 'Precio']\n",
    "\n",
    "# Convertir a tipo de dato correcto: metros y €\n",
    "\n",
    "rawdata['Precio'] = rawdata['Precio'].str.replace(',', '.').str.replace('€', '').str.strip()\n",
    "rawdata['Precio'] = rawdata['Precio'].map(float)\n",
    "rawdata['metros'] = rawdata['metros'].str.replace(',', '.').str.strip()\n",
    "rawdata['metros'] = rawdata['metros'].map(float)"
   ]
  },
  {
   "cell_type": "code",
   "execution_count": 2,
   "metadata": {
    "collapsed": true
   },
   "outputs": [],
   "source": [
    "# Analizamos los datos de € y metros que van a condicionar el modelo"
   ]
  },
  {
   "cell_type": "code",
   "execution_count": 3,
   "metadata": {
    "collapsed": false
   },
   "outputs": [],
   "source": [
    "\n",
    "rawdata['eur_metro'] = (rawdata['Precio']/rawdata['metros'])\n",
    "rawdata['eur_metro_round'] = rawdata['eur_metro'].apply(lambda x: round(x, ndigits = 1))\n"
   ]
  },
  {
   "cell_type": "code",
   "execution_count": 4,
   "metadata": {
    "collapsed": false
   },
   "outputs": [
    {
     "data": {
      "text/html": [
       "<div>\n",
       "<table border=\"1\" class=\"dataframe\">\n",
       "  <thead>\n",
       "    <tr style=\"text-align: right;\">\n",
       "      <th></th>\n",
       "      <th>metros</th>\n",
       "      <th>Garaje</th>\n",
       "      <th>Precio</th>\n",
       "      <th>eur_metro</th>\n",
       "      <th>eur_metro_round</th>\n",
       "    </tr>\n",
       "  </thead>\n",
       "  <tbody>\n",
       "    <tr>\n",
       "      <th>count</th>\n",
       "      <td>5656.000000</td>\n",
       "      <td>5656.000000</td>\n",
       "      <td>5656.000000</td>\n",
       "      <td>5656.000000</td>\n",
       "      <td>5656.000000</td>\n",
       "    </tr>\n",
       "    <tr>\n",
       "      <th>mean</th>\n",
       "      <td>59.490818</td>\n",
       "      <td>0.190240</td>\n",
       "      <td>691.777801</td>\n",
       "      <td>12.563874</td>\n",
       "      <td>12.563543</td>\n",
       "    </tr>\n",
       "    <tr>\n",
       "      <th>std</th>\n",
       "      <td>55.835065</td>\n",
       "      <td>0.392525</td>\n",
       "      <td>188.677759</td>\n",
       "      <td>3.908525</td>\n",
       "      <td>3.908971</td>\n",
       "    </tr>\n",
       "    <tr>\n",
       "      <th>min</th>\n",
       "      <td>6.470000</td>\n",
       "      <td>0.000000</td>\n",
       "      <td>300.000000</td>\n",
       "      <td>0.120633</td>\n",
       "      <td>0.100000</td>\n",
       "    </tr>\n",
       "    <tr>\n",
       "      <th>25%</th>\n",
       "      <td>45.000000</td>\n",
       "      <td>0.000000</td>\n",
       "      <td>570.000000</td>\n",
       "      <td>9.992006</td>\n",
       "      <td>10.000000</td>\n",
       "    </tr>\n",
       "    <tr>\n",
       "      <th>50%</th>\n",
       "      <td>56.450000</td>\n",
       "      <td>0.000000</td>\n",
       "      <td>650.000000</td>\n",
       "      <td>11.791749</td>\n",
       "      <td>11.800000</td>\n",
       "    </tr>\n",
       "    <tr>\n",
       "      <th>75%</th>\n",
       "      <td>70.000000</td>\n",
       "      <td>0.000000</td>\n",
       "      <td>750.000000</td>\n",
       "      <td>14.285714</td>\n",
       "      <td>14.300000</td>\n",
       "    </tr>\n",
       "    <tr>\n",
       "      <th>max</th>\n",
       "      <td>3979.000000</td>\n",
       "      <td>1.000000</td>\n",
       "      <td>2500.000000</td>\n",
       "      <td>85.007728</td>\n",
       "      <td>85.000000</td>\n",
       "    </tr>\n",
       "  </tbody>\n",
       "</table>\n",
       "</div>"
      ],
      "text/plain": [
       "            metros       Garaje       Precio    eur_metro  eur_metro_round\n",
       "count  5656.000000  5656.000000  5656.000000  5656.000000      5656.000000\n",
       "mean     59.490818     0.190240   691.777801    12.563874        12.563543\n",
       "std      55.835065     0.392525   188.677759     3.908525         3.908971\n",
       "min       6.470000     0.000000   300.000000     0.120633         0.100000\n",
       "25%      45.000000     0.000000   570.000000     9.992006        10.000000\n",
       "50%      56.450000     0.000000   650.000000    11.791749        11.800000\n",
       "75%      70.000000     0.000000   750.000000    14.285714        14.300000\n",
       "max    3979.000000     1.000000  2500.000000    85.007728        85.000000"
      ]
     },
     "execution_count": 4,
     "metadata": {},
     "output_type": "execute_result"
    }
   ],
   "source": [
    "rawdata.describe()"
   ]
  },
  {
   "cell_type": "code",
   "execution_count": 5,
   "metadata": {
    "collapsed": true
   },
   "outputs": [],
   "source": [
    "## La std de los metros es demasiado alta, además el máximo son 3979 m, demasiado para una vivienda"
   ]
  },
  {
   "cell_type": "code",
   "execution_count": 6,
   "metadata": {
    "collapsed": false
   },
   "outputs": [],
   "source": [
    "import matplotlib.pyplot as plt\n",
    "import seaborn as sns\n",
    "sns.set(color_codes=True)\n",
    "%matplotlib inline"
   ]
  },
  {
   "cell_type": "code",
   "execution_count": 7,
   "metadata": {
    "collapsed": false
   },
   "outputs": [
    {
     "data": {
      "image/png": "[encoded data removed]",
      "text/plain": [
       "<matplotlib.figure.Figure at 0x7f541e983f90>"
      ]
     },
     "metadata": {},
     "output_type": "display_data"
    }
   ],
   "source": [
    "sns.distplot(rawdata['metros'])\n",
    "plt.show()"
   ]
  },
  {
   "cell_type": "code",
   "execution_count": 8,
   "metadata": {
    "collapsed": false
   },
   "outputs": [
    {
     "data": {
      "text/html": [
       "<div>\n",
       "<table border=\"1\" class=\"dataframe\">\n",
       "  <thead>\n",
       "    <tr style=\"text-align: right;\">\n",
       "      <th></th>\n",
       "      <th>Direccion</th>\n",
       "      <th>Planta</th>\n",
       "      <th>metros</th>\n",
       "      <th>habitaciones</th>\n",
       "      <th>Garaje</th>\n",
       "      <th>Precio</th>\n",
       "      <th>eur_metro</th>\n",
       "      <th>eur_metro_round</th>\n",
       "    </tr>\n",
       "  </thead>\n",
       "  <tbody>\n",
       "    <tr>\n",
       "      <th>3781</th>\n",
       "      <td>CALLE AMPARO, 12</td>\n",
       "      <td>4</td>\n",
       "      <td>335.0</td>\n",
       "      <td>2</td>\n",
       "      <td>0</td>\n",
       "      <td>685.0</td>\n",
       "      <td>2.044776</td>\n",
       "      <td>2.0</td>\n",
       "    </tr>\n",
       "    <tr>\n",
       "      <th>4815</th>\n",
       "      <td>CALLE CARABIAS, 20</td>\n",
       "      <td>2</td>\n",
       "      <td>3979.0</td>\n",
       "      <td>2</td>\n",
       "      <td>0</td>\n",
       "      <td>480.0</td>\n",
       "      <td>0.120633</td>\n",
       "      <td>0.1</td>\n",
       "    </tr>\n",
       "  </tbody>\n",
       "</table>\n",
       "</div>"
      ],
      "text/plain": [
       "               Direccion Planta  metros habitaciones  Garaje  Precio  \\\n",
       "3781    CALLE AMPARO, 12      4   335.0            2       0   685.0   \n",
       "4815  CALLE CARABIAS, 20      2  3979.0            2       0   480.0   \n",
       "\n",
       "      eur_metro  eur_metro_round  \n",
       "3781   2.044776              2.0  \n",
       "4815   0.120633              0.1  "
      ]
     },
     "execution_count": 8,
     "metadata": {},
     "output_type": "execute_result"
    }
   ],
   "source": [
    "rawdata[rawdata['metros']>200]"
   ]
  },
  {
   "cell_type": "code",
   "execution_count": 9,
   "metadata": {
    "collapsed": true
   },
   "outputs": [],
   "source": [
    "#Hay 2 valores que parecen errores de datos, los eliminamos"
   ]
  },
  {
   "cell_type": "code",
   "execution_count": 10,
   "metadata": {
    "collapsed": true
   },
   "outputs": [],
   "source": [
    "rawdata.drop(rawdata[rawdata['metros']>200].index, inplace=True)"
   ]
  },
  {
   "cell_type": "code",
   "execution_count": 11,
   "metadata": {
    "collapsed": false
   },
   "outputs": [
    {
     "data": {
      "image/png": "[encoded data removed]",
      "text/plain": [
       "<matplotlib.figure.Figure at 0x7f541c4101d0>"
      ]
     },
     "metadata": {},
     "output_type": "display_data"
    }
   ],
   "source": [
    "sns.distplot(rawdata['metros'], kde=False)\n",
    "plt.show()"
   ]
  },
  {
   "cell_type": "code",
   "execution_count": 12,
   "metadata": {
    "collapsed": false
   },
   "outputs": [
    {
     "data": {
      "text/html": [
       "<div>\n",
       "<table border=\"1\" class=\"dataframe\">\n",
       "  <thead>\n",
       "    <tr style=\"text-align: right;\">\n",
       "      <th></th>\n",
       "      <th>metros</th>\n",
       "      <th>Garaje</th>\n",
       "      <th>Precio</th>\n",
       "      <th>eur_metro</th>\n",
       "      <th>eur_metro_round</th>\n",
       "    </tr>\n",
       "  </thead>\n",
       "  <tbody>\n",
       "    <tr>\n",
       "      <th>count</th>\n",
       "      <td>5654.000000</td>\n",
       "      <td>5654.000000</td>\n",
       "      <td>5654.000000</td>\n",
       "      <td>5654.000000</td>\n",
       "      <td>5654.000000</td>\n",
       "    </tr>\n",
       "    <tr>\n",
       "      <th>mean</th>\n",
       "      <td>58.748862</td>\n",
       "      <td>0.190308</td>\n",
       "      <td>691.816456</td>\n",
       "      <td>12.567935</td>\n",
       "      <td>12.567616</td>\n",
       "    </tr>\n",
       "    <tr>\n",
       "      <th>std</th>\n",
       "      <td>19.674518</td>\n",
       "      <td>0.392579</td>\n",
       "      <td>188.690085</td>\n",
       "      <td>3.903203</td>\n",
       "      <td>3.903617</td>\n",
       "    </tr>\n",
       "    <tr>\n",
       "      <th>min</th>\n",
       "      <td>6.470000</td>\n",
       "      <td>0.000000</td>\n",
       "      <td>300.000000</td>\n",
       "      <td>5.633803</td>\n",
       "      <td>5.600000</td>\n",
       "    </tr>\n",
       "    <tr>\n",
       "      <th>25%</th>\n",
       "      <td>45.000000</td>\n",
       "      <td>0.000000</td>\n",
       "      <td>570.000000</td>\n",
       "      <td>9.995226</td>\n",
       "      <td>10.000000</td>\n",
       "    </tr>\n",
       "    <tr>\n",
       "      <th>50%</th>\n",
       "      <td>56.425000</td>\n",
       "      <td>0.000000</td>\n",
       "      <td>650.000000</td>\n",
       "      <td>11.794593</td>\n",
       "      <td>11.800000</td>\n",
       "    </tr>\n",
       "    <tr>\n",
       "      <th>75%</th>\n",
       "      <td>70.000000</td>\n",
       "      <td>0.000000</td>\n",
       "      <td>750.000000</td>\n",
       "      <td>14.285714</td>\n",
       "      <td>14.300000</td>\n",
       "    </tr>\n",
       "    <tr>\n",
       "      <th>max</th>\n",
       "      <td>173.870000</td>\n",
       "      <td>1.000000</td>\n",
       "      <td>2500.000000</td>\n",
       "      <td>85.007728</td>\n",
       "      <td>85.000000</td>\n",
       "    </tr>\n",
       "  </tbody>\n",
       "</table>\n",
       "</div>"
      ],
      "text/plain": [
       "            metros       Garaje       Precio    eur_metro  eur_metro_round\n",
       "count  5654.000000  5654.000000  5654.000000  5654.000000      5654.000000\n",
       "mean     58.748862     0.190308   691.816456    12.567935        12.567616\n",
       "std      19.674518     0.392579   188.690085     3.903203         3.903617\n",
       "min       6.470000     0.000000   300.000000     5.633803         5.600000\n",
       "25%      45.000000     0.000000   570.000000     9.995226        10.000000\n",
       "50%      56.425000     0.000000   650.000000    11.794593        11.800000\n",
       "75%      70.000000     0.000000   750.000000    14.285714        14.300000\n",
       "max     173.870000     1.000000  2500.000000    85.007728        85.000000"
      ]
     },
     "execution_count": 12,
     "metadata": {},
     "output_type": "execute_result"
    }
   ],
   "source": [
    "rawdata.describe()"
   ]
  },
  {
   "cell_type": "code",
   "execution_count": 13,
   "metadata": {
    "collapsed": true
   },
   "outputs": [],
   "source": [
    "## Estudiamos los valores de euros"
   ]
  },
  {
   "cell_type": "code",
   "execution_count": 14,
   "metadata": {
    "collapsed": false
   },
   "outputs": [
    {
     "data": {
      "image/png": "[encoded data removed]",
      "text/plain": [
       "<matplotlib.figure.Figure at 0x7f541c4e8310>"
      ]
     },
     "metadata": {},
     "output_type": "display_data"
    }
   ],
   "source": [
    "sns.distplot(rawdata['Precio'], kde=False)\n",
    "plt.show()"
   ]
  },
  {
   "cell_type": "code",
   "execution_count": 15,
   "metadata": {
    "collapsed": false
   },
   "outputs": [
    {
     "data": {
      "text/html": [
       "<div>\n",
       "<table border=\"1\" class=\"dataframe\">\n",
       "  <thead>\n",
       "    <tr style=\"text-align: right;\">\n",
       "      <th></th>\n",
       "      <th>Direccion</th>\n",
       "      <th>Planta</th>\n",
       "      <th>metros</th>\n",
       "      <th>habitaciones</th>\n",
       "      <th>Garaje</th>\n",
       "      <th>Precio</th>\n",
       "      <th>eur_metro</th>\n",
       "      <th>eur_metro_round</th>\n",
       "    </tr>\n",
       "  </thead>\n",
       "  <tbody>\n",
       "    <tr>\n",
       "      <th>1099</th>\n",
       "      <td>CALLE DOCTOR FLEMING, 11</td>\n",
       "      <td>2</td>\n",
       "      <td>165.60225</td>\n",
       "      <td>5</td>\n",
       "      <td>0</td>\n",
       "      <td>2500.0</td>\n",
       "      <td>15.096413</td>\n",
       "      <td>15.1</td>\n",
       "    </tr>\n",
       "    <tr>\n",
       "      <th>1177</th>\n",
       "      <td>CALLE POTOSI, 4</td>\n",
       "      <td>4</td>\n",
       "      <td>110.91000</td>\n",
       "      <td>3</td>\n",
       "      <td>1</td>\n",
       "      <td>1850.0</td>\n",
       "      <td>16.680191</td>\n",
       "      <td>16.7</td>\n",
       "    </tr>\n",
       "    <tr>\n",
       "      <th>3915</th>\n",
       "      <td>CALLE JESUS, 2</td>\n",
       "      <td>2</td>\n",
       "      <td>157.00000</td>\n",
       "      <td>3</td>\n",
       "      <td>0</td>\n",
       "      <td>2000.0</td>\n",
       "      <td>12.738854</td>\n",
       "      <td>12.7</td>\n",
       "    </tr>\n",
       "    <tr>\n",
       "      <th>4101</th>\n",
       "      <td>CUESTA DE SANTO DOMINGO, 22</td>\n",
       "      <td>3</td>\n",
       "      <td>173.00000</td>\n",
       "      <td>4</td>\n",
       "      <td>0</td>\n",
       "      <td>2000.0</td>\n",
       "      <td>11.560694</td>\n",
       "      <td>11.6</td>\n",
       "    </tr>\n",
       "    <tr>\n",
       "      <th>4681</th>\n",
       "      <td>CALLE LAGASCA, 95</td>\n",
       "      <td>3</td>\n",
       "      <td>103.00000</td>\n",
       "      <td>3</td>\n",
       "      <td>0</td>\n",
       "      <td>1850.0</td>\n",
       "      <td>17.961165</td>\n",
       "      <td>18.0</td>\n",
       "    </tr>\n",
       "  </tbody>\n",
       "</table>\n",
       "</div>"
      ],
      "text/plain": [
       "                        Direccion Planta     metros habitaciones  Garaje  \\\n",
       "1099     CALLE DOCTOR FLEMING, 11      2  165.60225            5       0   \n",
       "1177              CALLE POTOSI, 4      4  110.91000            3       1   \n",
       "3915               CALLE JESUS, 2      2  157.00000            3       0   \n",
       "4101  CUESTA DE SANTO DOMINGO, 22      3  173.00000            4       0   \n",
       "4681            CALLE LAGASCA, 95      3  103.00000            3       0   \n",
       "\n",
       "      Precio  eur_metro  eur_metro_round  \n",
       "1099  2500.0  15.096413             15.1  \n",
       "1177  1850.0  16.680191             16.7  \n",
       "3915  2000.0  12.738854             12.7  \n",
       "4101  2000.0  11.560694             11.6  \n",
       "4681  1850.0  17.961165             18.0  "
      ]
     },
     "execution_count": 15,
     "metadata": {},
     "output_type": "execute_result"
    }
   ],
   "source": [
    "rawdata[rawdata['Precio']>1800]"
   ]
  },
  {
   "cell_type": "code",
   "execution_count": 16,
   "metadata": {
    "collapsed": true
   },
   "outputs": [],
   "source": [
    "## Los valores de precio no parecen presentar problemas"
   ]
  },
  {
   "cell_type": "code",
   "execution_count": 17,
   "metadata": {
    "collapsed": false
   },
   "outputs": [
    {
     "data": {
      "image/png": "[encoded data removed]",
      "text/plain": [
       "<matplotlib.figure.Figure at 0x7f541c0b8990>"
      ]
     },
     "metadata": {},
     "output_type": "display_data"
    }
   ],
   "source": [
    "sns.distplot(rawdata['eur_metro'], kde=False)\n",
    "plt.show()"
   ]
  },
  {
   "cell_type": "code",
   "execution_count": 18,
   "metadata": {
    "collapsed": false
   },
   "outputs": [
    {
     "name": "stderr",
     "output_type": "stream",
     "text": [
      "/home/manu/anaconda2/lib/python2.7/site-packages/ipykernel/__main__.py:12: FutureWarning: currently extract(expand=None) means expand=False (return Index/Series/DataFrame) but in a future version of pandas this will be changed to expand=True (return DataFrame)\n",
      "/home/manu/anaconda2/lib/python2.7/site-packages/ipykernel/__main__.py:74: FutureWarning: currently extract(expand=None) means expand=False (return Index/Series/DataFrame) but in a future version of pandas this will be changed to expand=True (return DataFrame)\n"
     ]
    }
   ],
   "source": [
    "# Traducir los valores de planta a los que existen en catastro para que el modelo se pueda\n",
    "# aplicar a los datos reales\n",
    "\n",
    "planta_ivima = pd.DataFrame((rawdata['Planta'].value_counts()).reset_index())\n",
    "planta_ivima.rename(columns={'index':'planta', 'Planta':'elementos'}, inplace=True)\n",
    "\n",
    "## Para cada planta de IVIMA hay que asociar el equivalente en catastro\n",
    "\n",
    "## Añadimos una columna para buscar en catastro quitando los caracteres que no sean\n",
    "# números ni letras 'º', asi tendremos los números\n",
    "\n",
    "caracter_raro = planta_ivima[planta_ivima['planta'].str.contains('\\W+')]['planta'].str.extract('(\\W+)').unique()\n",
    "planta_ivima['planta_busqueda'] = planta_ivima['planta']\n",
    "\n",
    "for raro in caracter_raro:\n",
    "    planta_ivima['planta_busqueda'] = planta_ivima['planta_busqueda'].str.replace(raro, '')\n",
    "\n",
    "## La codificación de planta en catastro es de 2 caracteres\n",
    "\n",
    "planta_ivima['planta_busqueda'] = planta_ivima['planta_busqueda'].apply(lambda x: '0' + x if len(x)==1 else x)\n",
    "clean_dir = '../../../data/clean/ficheros_preparados/'\n",
    "\n",
    "#Solo tenemos datos de alquiler de Madrid, utilizamos solo el catastro de Madrid\n",
    "\n",
    "cat_data =  pd.read_csv(os.path.join(clean_dir, 'BI_28_900_U_2016-01-23.csv.gz'), low_memory=False, dtype='str')\n",
    "\n",
    "# Solo estamos interesados en los bienes inmuebles del tipo vivienda\n",
    "\n",
    "planta_cat = pd.DataFrame(cat_data[cat_data['clave_grupo_BI']=='V']['planta'].value_counts().reset_index())\n",
    "planta_cat.rename(columns={'index':'planta_cat', 'planta':'elementos'}, inplace=True)\n",
    "\n",
    "# Poblamos en plantas ivima los cruces directos\n",
    "\n",
    "planta_ivima = pd.merge(planta_ivima, planta_cat, how='left', left_on='planta_busqueda', right_on='planta_cat', suffixes=('ivi', 'cat'))\n",
    "\n",
    "## Exportamos la tabla para revisión manual de las asociaciones que no cruzan directamente\n",
    "\n",
    "planta_ivima.to_csv(os.path.join(aux_dir, 'plantas_ivima.csv'))\n",
    "\n",
    "## Revisar el fichero anterior externamente (Excel, editor texto, etc), para intentar asociar el literal\n",
    "## de castastro de planta a los codigos de planta de IVIMA que no hemos podido poblar\n",
    "## grabamos este fichero en out_dir/plantas_ivima.csv\n",
    "\n",
    "\n",
    "planta_ivima_revisada = pd.read_csv(os.path.join(out_dir, 'plantas_ivima.csv'), sep=';', index_col=0)\n",
    "planta_ivima_revisada = planta_ivima_revisada.drop(['planta', 'elementosivi', 'planta_busqueda', 'elementoscat'], axis=1)\n",
    "planta_ivima = pd.merge(planta_ivima, planta_ivima_revisada, left_index=True, right_index=True)\n",
    "planta_ivima = planta_ivima.drop(['planta_busqueda', 'planta_cat_x', 'elementoscat', 'elementosivi'], axis=1)\n",
    "planta_ivima.rename(columns={'planta':'Planta', 'planta_cat_y':'planta_cat'}, inplace=True)\n",
    "\n",
    "# poblamos los literales de planta de catastro en la tabla de datos\n",
    "\n",
    "rawdata = pd.merge(rawdata, planta_ivima, how='left', left_on='Planta', right_on='Planta')\n",
    "\n",
    "# separamos la direccion en calle y número. Lo necesitaremos en R para buscar el año de la finca en el catastro\n",
    "\n",
    "direcciones = rawdata['Direccion'].str.split(',', expand = True)\n",
    "direcciones.drop(2, axis=1, inplace = True)\n",
    "direcciones.rename(columns={0:'Calle', 1:'numero'}, inplace=True)\n",
    "rawdata = pd.concat([rawdata, direcciones], axis = 1)\n",
    "rawdata['numero']=rawdata['numero'].str.strip()\n",
    "rawdata['Calle']=rawdata['Calle'].str.strip()\n",
    "\n",
    "# Sustituimos los nulos de número por ''\n",
    "\n",
    "rawdata.loc[rawdata['numero'].isnull(), 'numero'] = ''\n",
    "\n",
    "# Eliminar espacios del campo numero\n",
    "\n",
    "rawdata['numero'] = rawdata['numero'].str.replace(' ', '')\n",
    "\n",
    "# Analizamos el tipo de separador que hay en el campo 'numero'. (hay '-' y '/')\n",
    "\n",
    "separadores = rawdata[rawdata['numero'].str.contains('\\W+')]['numero'].str.extract('(\\W+)').unique()\n",
    "\n",
    "for separador in separadores:\n",
    "    rawdata['numero'] = rawdata['numero'].str.replace(separador, '-')\n",
    "    \n",
    "\n",
    "# Separamos en el número si hay parte de Bis/Duplicado\n",
    "\n",
    "numeros_tratar = rawdata[rawdata['numero'].str.isdigit() == False]\n",
    "\n",
    "# Tratamos de forma diferente si hay un - o no\n",
    "\n",
    "numeros_guion = numeros_tratar[numeros_tratar['numero'].str.find('-') != -1]\n",
    "\n",
    "## Separamos por el guion y en el segundo campo sustituimos BIS por B\n",
    "\n",
    "num_bis_guion = numeros_guion['numero'].str.split('-', expand = True)\n",
    "num_bis_guion.rename(columns = {0:'num_pol', 1:'letra'}, inplace=True)\n",
    "\n",
    "# las letras no pueden ser números, vaciamos las que lo sean\n",
    "\n",
    "num_bis_guion['letra'] = num_bis_guion['letra'].apply(lambda x: '' if x.isdigit() else x)\n",
    "num_bis_guion['letra'] = num_bis_guion['letra'].replace('BIS', 'B')\n",
    "\n",
    "# Tratamos los que no tienen -\n",
    "\n",
    "numeros_no_guion = numeros_tratar[numeros_tratar['numero'].str.find('-') == -1]\n",
    "numeros_no_guion = numeros_no_guion.drop(numeros_no_guion.columns[:-1], axis=1)\n",
    "numeros_no_guion['numero'] = numeros_no_guion['numero'].str.replace('BIS', 'B')\n",
    "numeros_no_guion['num_pol'] = numeros_no_guion['numero'].str.extract('(\\d+)', expand = True)\n",
    "numeros_no_guion['letra'] = numeros_no_guion['numero'].str.extract('(\\D+)', expand = True)\n",
    "numeros_no_guion.drop('numero', axis=1, inplace=True)\n",
    "\n",
    "## Unimos los resultados y añadimos a la tabla global\n",
    "\n",
    "rawdata = pd.concat([rawdata, pd.concat([num_bis_guion, numeros_no_guion])], axis=1)\n",
    "rawdata.loc[rawdata['num_pol'].isnull(), 'num_pol'] = rawdata['numero']\n",
    "rawdata.loc[rawdata['letra'].isnull(), 'letra'] = ''\n",
    "\n",
    "## En las letras con más de un caracter dejamos sólo el primero\n",
    "rawdata.loc[rawdata['letra'] <> '', 'letra'] = rawdata['letra'].str[0]\n",
    "\n",
    "## Los números de policia de catastro tienen 4 caracteres\n",
    "\n",
    "rawdata['num_pol'] = rawdata['num_pol'].str.rjust(width = 4, fillchar='0')\n",
    "rawdata.to_csv(os.path.join(out_dir, 'fincas_ivima.csv'), index = False, sep='^')"
   ]
  }
 ],
 "metadata": {
  "kernelspec": {
   "display_name": "Python [Root]",
   "language": "python",
   "name": "Python [Root]"
  },
  "language_info": {
   "codemirror_mode": {
    "name": "ipython",
    "version": 2
   },
   "file_extension": ".py",
   "mimetype": "text/x-python",
   "name": "python",
   "nbconvert_exporter": "python",
   "pygments_lexer": "ipython2",
   "version": "2.7.12"
  }
 },
 "nbformat": 4,
 "nbformat_minor": 0
}
